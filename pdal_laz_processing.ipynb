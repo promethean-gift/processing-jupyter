{
 "cells": [
  {
   "cell_type": "markdown",
   "metadata": {},
   "source": [
    "\n",
    "# Entwine processing\n",
    "\n",
    "To view the lidar, we want to build EPT from the `*.laz`, to do so:\n",
    "\n",
    "```{bash}\n",
    "entwine build -i /workspace/jemez/lidar/laz/NM_SouthCentral_B9_2018/laz/ -o /workspace/jemez/lidar/ept/NM_SouthCentral_B9_2018/ -t 26\n",
    "```\n",
    " \n",
    "After the EPT are built, and the `ept.json` file is in the first level directory. \n",
    " \n",
    "You can host an `http-server` for the EPT locally on your computer for viewing in the browser:\n",
    " \n",
    "```{bash}\n",
    "cd  /workspace/jemez/lidar/ept/NM_SouthCentral_B8_2018\n",
    " \n",
    "# install  nodejs/npm\n",
    "npm install http-server -g\n",
    "\n",
    "#run\n",
    "http-server -p 9000 --cors\n",
    "```\n",
    "\n",
    "Now, in the browser, navigate to:\n",
    "\n",
    "[https://potree.entwine.io/data/view.html?r=%22http://localhost:9000%22](https://potree.entwine.io/data/view.html?r=%22http://localhost:9000%22)"
   ]
  },
  {
   "cell_type": "markdown",
   "metadata": {},
   "source": [
    "To view the data on [CyVerse Data Store](https://usgs.entwine.io/data/view.html?r=%22https://data.cyverse.org/dav-anon/iplant/home/tswetnam/jemez/lidar/ept/NM_SouthCentral_B9_2018/%22)\n",
    "\n",
    "```\n",
    "https://usgs.entwine.io/data/view.html?r=%22https://data.cyverse.org/dav-anon/iplant/home/tswetnam/jemez/lidar/ept/NM_SouthCentral_B9_2018/%22\n",
    "```"
   ]
  },
  {
   "cell_type": "code",
   "execution_count": 1,
   "metadata": {},
   "outputs": [
    {
     "data": {
      "text/html": [
       "<iframe src=\"https://usgs.entwine.io/data/view.html?r=%22https://data.cyverse.org/dav-anon/iplant/home/tswetnam/jemez/lidar/ept/NM_SouthCentral_B9_2018/%22\" width=\"800\" height=\"600\"/>\n"
      ],
      "text/plain": [
       "<IPython.core.display.HTML object>"
      ]
     },
     "metadata": {},
     "output_type": "display_data"
    }
   ],
   "source": [
    "%%html\n",
    "<iframe src=\"https://usgs.entwine.io/data/view.html?r=%22https://data.cyverse.org/dav-anon/iplant/home/tswetnam/jemez/lidar/ept/NM_SouthCentral_B9_2018/%22\" width=\"800\" height=\"600\"/>"
   ]
  },
  {
   "cell_type": "markdown",
   "metadata": {},
   "source": [
    "Notice, these original data have vertical outliers in them. \n",
    "\n",
    "To remove these use PDAL's `filters` with the `pipeline` json feature.\n",
    "\n",
    "`nm_sc_b9_outlier_removal.json`:\n",
    "\n",
    "```{json}\n",
    "{\n",
    " \t\"pipeline\":[\n",
    " \t   \"/workspace/jemez/lidar/laz/NM_SouthCentral_B9_2018/{}.laz\",\n",
    " \t   {\n",
    "        \"type\":\"filters.outlier\",\n",
    "        \"method\":\"statistical\",\n",
    "        \"mean_k\":12,\n",
    "        \"multiplier\":2.2\n",
    "       },\n",
    "       {\n",
    "          \"type\":\"filters.range\",\n",
    "          \"limits\":\"Classification![7:7]\"\n",
    "       },\n",
    "       {\n",
    " \t      \"type\":\"writers.las\",\n",
    " \t      \"extra_dims\": \"all\",\n",
    "          \"minor_version\" : \"4\",\n",
    "\t \t  \"filename\":\"/workspace/jemez/lidar/laz/NM_SouthCentral_B9_2018/laz/{}.laz\"\n",
    " \t   }\n",
    " \t]\n",
    " }\n",
    "```\n",
    "\n",
    "Because our collections are large, we want to use batch processing on them. \n",
    "\n",
    "https://pdal.io/workshop/exercises/batch_processing/batch-processing.html\n",
    "\n",
    "Run PDAL on the CLI to recursively go through the directory with the `*.laz`. \n",
    "\n",
    "This will process one tile per thread. \n",
    "\n",
    "Running this on our new server with 255 cores allows us to use an enormous thread count:\n",
    "\n",
    "```{bash}\n",
    "cd /workspace/jemez/lidar/laz/NM_SouthCentral_B9_2018/\n",
    "mkdir laz\n",
    "ls *.laz | cut -d. -f1 | xargs -P250 -I{} \\\n",
    "pdal pipeline /workspace/jemez/lidar/pdal_pipeline_jsons/nm_sc_b9_outlier_removal.json \\\n",
    "--readers.las.filename=/workspace/jemez/lidar/laz/NM_SouthCentral_B9_2018/{}.laz \\\n",
    "--writers.las.filename=/workspace/jemez/lidar/laz/NM_SouthCentral_B9_2018/laz/{}.laz\n",
    "```\n",
    "\n",
    "```{bash}\n",
    "cd /workspace/jemez/lidar/laz/USGS_LPC_NM_NorthCentral_B1_2016/\n",
    "mkdir laz\n",
    "ls *.laz | cut -d. -f1 | xargs -P250 -I{} \\\n",
    "pdal pipeline /workspace/jemez/lidar/pdal_pipeline_jsons/nm_nc_b1_outlier_removal.json \\\n",
    "--readers.las.filename=/workspace/jemez/lidar/laz/USGS_LPC_NM_NorthCentral_B1_2016/{}.laz \\\n",
    "--writers.las.filename=/workspace/jemez/lidar/laz/USGS_LPC_NM_NorthCentral_B1_2016/laz/{}.laz\n",
    "```\n",
    "\n",
    "```{bash}\n",
    "cd /workspace/jemez/lidar/laz/USGS_LPC_NM_NorthCentral_B2_2016/\n",
    "mkdir laz\n",
    "ls *.laz | cut -d. -f1 | xargs -P250 -I{} \\\n",
    "pdal pipeline /workspace/jemez/lidar/pdal_pipeline_jsons/nm_nc_b2_outlier_removal.json \\\n",
    "--readers.las.filename=/workspace/jemez/lidar/laz/USGS_LPC_NM_NorthCentral_B2_2016/{}.laz \\\n",
    "--writers.las.filename=/workspace/jemez/lidar/laz/USGS_LPC_NM_NorthCentral_B2_2016/laz/{}.laz\n",
    "```\n",
    "\n",
    "\n",
    "We're essentially duplicating the dataset by creating a new sub-directory called `/laz` -- if space is a concern, you will want to delete the unfiltered data AFTER you have checked them to make sure the filtering was successful."
   ]
  },
  {
   "cell_type": "code",
   "execution_count": null,
   "metadata": {},
   "outputs": [],
   "source": []
  },
  {
   "cell_type": "markdown",
   "metadata": {},
   "source": []
  },
  {
   "cell_type": "code",
   "execution_count": null,
   "metadata": {},
   "outputs": [],
   "source": []
  }
 ],
 "metadata": {
  "kernelspec": {
   "display_name": "Python 3",
   "language": "python",
   "name": "python3"
  },
  "language_info": {
   "codemirror_mode": {
    "name": "ipython",
    "version": 3
   },
   "file_extension": ".py",
   "mimetype": "text/x-python",
   "name": "python",
   "nbconvert_exporter": "python",
   "pygments_lexer": "ipython3",
   "version": "3.7.8"
  }
 },
 "nbformat": 4,
 "nbformat_minor": 4
}
